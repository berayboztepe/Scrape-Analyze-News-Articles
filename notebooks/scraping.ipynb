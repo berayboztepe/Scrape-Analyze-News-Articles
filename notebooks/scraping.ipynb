{
 "cells": [
  {
   "cell_type": "code",
   "execution_count": 3,
   "metadata": {},
   "outputs": [],
   "source": [
    "import requests\n",
    "import pandas as pd\n",
    "from dotenv import load_dotenv\n",
    "import os"
   ]
  },
  {
   "cell_type": "code",
   "execution_count": 10,
   "metadata": {},
   "outputs": [
    {
     "name": "stdout",
     "output_type": "stream",
     "text": [
      "                                               title  \\\n",
      "0  Apple and SpaceX Link Up to Support Starlink S...   \n",
      "1  Compile Heart and M2 shoot ’em up titled Zales...   \n",
      "2  Legendary 'Father of Final Fantasy' Returns to...   \n",
      "3  Steam-Heart’s & Advanced Variable Geo Saturn T...   \n",
      "4  DOOM + DOOM II Switch Update 2 Now Live, Here ...   \n",
      "\n",
      "                                         description           publishedAt  \\\n",
      "0  Apple Inc. has been secretly working with Spac...  2025-01-29T05:25:00Z   \n",
      "1  The new shoot ’em up from publisher Compile He...  2025-01-29T04:50:09Z   \n",
      "2      The spiritual \"successor to Final Fantasy VI\"  2025-01-29T04:00:00Z   \n",
      "3  City Connection has announced Steam-Heart’s & ...  2025-01-29T03:26:28Z   \n",
      "4              Adds multiplayer mod support and more  2025-01-29T01:37:40Z   \n",
      "\n",
      "                                     source  \n",
      "0  {'id': 'bloomberg', 'name': 'Bloomberg'}  \n",
      "1           {'id': None, 'name': 'Gematsu'}  \n",
      "2       {'id': None, 'name': 'Push Square'}  \n",
      "3           {'id': None, 'name': 'Gematsu'}  \n",
      "4     {'id': None, 'name': 'Nintendo Life'}  \n"
     ]
    }
   ],
   "source": [
    "load_dotenv()\n",
    "API_KEY = os.getenv(\"NEWS_API_KEY\")\n",
    "url = f\"https://newsapi.org/v2/top-headlines?country=us&category=technology&apiKey={API_KEY}\"\n",
    "\n",
    "response = requests.get(url)\n",
    "data = response.json()\n",
    "\n",
    "articles = data[\"articles\"]\n",
    "df = pd.DataFrame(articles)[[\"title\", \"description\", \"publishedAt\", \"source\"]]\n",
    "print(df.head())\n",
    "\n",
    "os.makedirs(\"data\", exist_ok=True)\n",
    "file_path = os.path.join(\"../data\", \"news.csv\")\n",
    "df.to_csv(file_path, index=False)"
   ]
  }
 ],
 "metadata": {
  "kernelspec": {
   "display_name": "venv",
   "language": "python",
   "name": "python3"
  },
  "language_info": {
   "codemirror_mode": {
    "name": "ipython",
    "version": 3
   },
   "file_extension": ".py",
   "mimetype": "text/x-python",
   "name": "python",
   "nbconvert_exporter": "python",
   "pygments_lexer": "ipython3",
   "version": "3.11.9"
  }
 },
 "nbformat": 4,
 "nbformat_minor": 2
}
